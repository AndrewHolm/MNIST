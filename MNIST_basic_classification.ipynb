{
  "nbformat": 4,
  "nbformat_minor": 0,
  "metadata": {
    "colab": {
      "provenance": [],
      "authorship_tag": "ABX9TyMUPhuQ6uqZwGbMoAzGkzQN",
      "include_colab_link": true
    },
    "kernelspec": {
      "name": "python3",
      "display_name": "Python 3"
    },
    "language_info": {
      "name": "python"
    }
  },
  "cells": [
    {
      "cell_type": "markdown",
      "metadata": {
        "id": "view-in-github",
        "colab_type": "text"
      },
      "source": [
        "<a href=\"https://colab.research.google.com/github/AndrewHolm/MNIST/blob/main/MNIST_basic_classification.ipynb\" target=\"_parent\"><img src=\"https://colab.research.google.com/assets/colab-badge.svg\" alt=\"Open In Colab\"/></a>"
      ]
    },
    {
      "cell_type": "code",
      "execution_count": null,
      "metadata": {
        "id": "eFaXfqwbW6dD"
      },
      "outputs": [],
      "source": [
        "import numpy as np\n",
        "import tensorflow as tf\n",
        "from tensorflow import keras\n",
        "from keras import layers\n",
        "import matplotlib.pyplot as plt\n"
      ]
    },
    {
      "cell_type": "markdown",
      "source": [
        "x_train: uint8 NumPy array of grayscale image data with shapes (60000, 28, 28), containing the training data. Pixel values range from 0 to 255.\n",
        "\n",
        "y_train: uint8 NumPy array of digit labels (integers in range 0-9) with shape (60000,) for the training data.\n",
        "\n",
        "x_test: uint8 NumPy array of grayscale image data with shapes (10000, 28, 28), containing the test data. Pixel values range from 0 to 255.\n",
        "\n",
        "y_test: uint8 NumPy array of digit labels (integers in range 0-9) with shape (10000,) for the test data"
      ],
      "metadata": {
        "id": "oB2aDfU7zwO_"
      }
    },
    {
      "cell_type": "markdown",
      "source": [
        "Data is in the form of a NumPy array. \n",
        "Data is normalized, divided by 255 (Pixel value range)"
      ],
      "metadata": {
        "id": "QVU4MBkt0180"
      }
    },
    {
      "cell_type": "markdown",
      "source": [
        "# Loading the Data"
      ],
      "metadata": {
        "id": "lF2z6nJi2DHG"
      }
    },
    {
      "cell_type": "code",
      "source": [
        "(x_train, y_train), (x_test, y_test) = tf.keras.datasets.mnist.load_data()\n",
        "x_train = x_train/255\n",
        "y_train = y_train/255"
      ],
      "metadata": {
        "id": "iQ-gqDZexxKl"
      },
      "execution_count": null,
      "outputs": []
    },
    {
      "cell_type": "code",
      "source": [
        "print(x_train.shape)\n",
        "# (60000, 28, 28)  (batch_size, height, width)\n",
        "print(y_train.shape)\n",
        "# (60000, ).   (batch_size, output)"
      ],
      "metadata": {
        "colab": {
          "base_uri": "https://localhost:8080/"
        },
        "id": "O6GW1lB81Ug_",
        "outputId": "f72eebb5-6247-469b-9b9a-398476cf197a"
      },
      "execution_count": null,
      "outputs": [
        {
          "output_type": "stream",
          "name": "stdout",
          "text": [
            "(60000, 28, 28)\n",
            "(60000,)\n"
          ]
        }
      ]
    },
    {
      "cell_type": "code",
      "source": [
        "plt.imshow(x_train[0], cmap='Greys')"
      ],
      "metadata": {
        "colab": {
          "base_uri": "https://localhost:8080/",
          "height": 282
        },
        "id": "NN0UIdGM1w3j",
        "outputId": "f875a0e5-ad0c-412b-bfa4-28cd709ec143"
      },
      "execution_count": null,
      "outputs": [
        {
          "output_type": "execute_result",
          "data": {
            "text/plain": [
              "<matplotlib.image.AxesImage at 0x7ff502326790>"
            ]
          },
          "metadata": {},
          "execution_count": 16
        },
        {
          "output_type": "display_data",
          "data": {
            "text/plain": [
              "<Figure size 432x288 with 1 Axes>"
            ],
            "image/png": "[encoded data removed]"
          },
          "metadata": {
            "needs_background": "light"
          }
        }
      ]
    },
    {
      "cell_type": "markdown",
      "source": [
        "# Building the model\n",
        "\n",
        " Sequential meaning the output of one layer is the input to the  next.            \n",
        "\n",
        " ## layer.Dense(10, activation='softmax', input_shape=x_train.shape[1:])\n",
        "\n",
        " Dense layers are fully connected using all values of the input (full linear ## transformation) \n",
        " \n",
        " 10 denots how many nodes are in the network (length the vector is producing)\n",
        " , some amount of inputs denotes 10 output. \n",
        "\n",
        " softmax activation is used for probabilites, takes all the possible outputs and sums their probabilites to 1. \n",
        "\n",
        "# model_lr.compile(optimizer='adam')\n",
        "\n",
        "compiling the model defines the optimizer, loss function and metrics \n",
        "adam is gradient descent, iterating over the cost function\n",
        "\n",
        "\n"
      ],
      "metadata": {
        "id": "aLBUyTQl18Bk"
      }
    },
    {
      "cell_type": "markdown",
      "source": [
        "# Non flattened data\n",
        "```\n",
        "model_lr = tf.keras.models.Sequential([\n",
        "    layers.Dense(10, activation='softmax', input_shape=x_train.shape[1:])\n",
        "])\n",
        "model_lr.compile(optimizer='adam', loss='categorical_crossentropy')\n",
        "model_lr.summary()\n",
        "\n",
        "\n",
        "_________________________________________________________________\n",
        "                              Summary\n",
        "_________________________________________________________________\n",
        "\n",
        "\n",
        "\n",
        "Model: \"sequential_1\"\n",
        "_________________________________________________________________\n",
        " Layer (type)                Output Shape              Param #   \n",
        "=================================================================\n",
        " dense_1 (Dense)             (None, 28, 10)            290       \n",
        "                                                                 \n",
        "=================================================================\n",
        "Total params: 290\n",
        "Trainable params: 290\n",
        "Non-trainable params: 0\n",
        "_________________________________________________________________\n",
        "\n",
        "```\n",
        "\n",
        "Output shape: none coresponds to the batch size\n",
        "\n",
        "x_train is 3 dimensional (60000, 28, 28), the dense layer acts on the nth element of the array. This means that in order to act on a 3d object it first needs to be flattened to use dense layers\n",
        "\n",
        "\n"
      ],
      "metadata": {
        "id": "PcP95vc37r8n"
      }
    },
    {
      "cell_type": "markdown",
      "source": [
        "\n",
        "\n",
        "```\n",
        "model_lr = tf.keras.models.Sequential([\n",
        "    layers.Input(x_train.shape[1:]),   \n",
        "    layers.Flatten(),                   \n",
        "    layers.Dense(10, activation='softmax')\n",
        "])\n",
        "model_lr1.compile(optimizer='adam', loss='categorical_crossentropy', metrics=['accuracy'])\n",
        "model_lr.summary()\n",
        "```\n",
        "\n"
      ],
      "metadata": {
        "id": "eN8CDsnRMReI"
      }
    },
    {
      "cell_type": "markdown",
      "source": [
        "``` \n",
        "layers.Input(x_train.shape[1:]) \n",
        "```\n",
        "Tells the model that it will receive an input with a certain shape\n",
        "\n",
        "```\n",
        "layers.Flatten()\n",
        "```\n",
        "This takes an n dimensional object and reduce it to only the batch size and one for the information. \n",
        "\n",
        "```\n",
        "Model: \"sequential_2\"\n",
        "_________________________________________________________________\n",
        " Layer (type)                Output Shape              Param #   \n",
        "=================================================================\n",
        " flatten (Flatten)           (None, 784)               0         \n",
        "                                                                 \n",
        " dense_2 (Dense)             (None, 10)                7850      \n",
        "                                                                 \n",
        "=================================================================\n",
        "Total params: 7,850\n",
        "Trainable params: 7,850\n",
        "Non-trainable params: 0\n",
        "_________________________________________________________________\n",
        "```\n",
        "784 = 28*28\n",
        "\n",
        "Dense layer transforms 784 layer through a linear transformation and softmax activation to be 10 output values.\n"
      ],
      "metadata": {
        "id": "gOTfBAyK9Yz8"
      }
    },
    {
      "cell_type": "markdown",
      "source": [
        "\n",
        "\n",
        "```\n",
        "y_onehot_train = tf.one_hot(y_train, 10)\n",
        "model_lr.fit(x_train, y_onehot_train)\n",
        "```\n",
        "\n"
      ],
      "metadata": {
        "id": "dXH_D_gJMhbs"
      }
    },
    {
      "cell_type": "code",
      "source": [
        "model_lr = tf.keras.models.Sequential([\n",
        "    layers.Input(x_train.shape[1:]),   \n",
        "    layers.Flatten(),                   \n",
        "    layers.Dense(10, activation='softmax')\n",
        "])\n",
        "model_lr.compile(optimizer='adam', loss='sparse_categorical_crossentropy', metrics=['accuracy'])\n",
        "model_lr.summary()"
      ],
      "metadata": {
        "colab": {
          "base_uri": "https://localhost:8080/"
        },
        "id": "QUm2G40YA5Ni",
        "outputId": "b1f1828d-f5b0-4492-db5d-45501d6fbeff"
      },
      "execution_count": null,
      "outputs": [
        {
          "output_type": "stream",
          "name": "stdout",
          "text": [
            "Model: \"sequential_1\"\n",
            "_________________________________________________________________\n",
            " Layer (type)                Output Shape              Param #   \n",
            "=================================================================\n",
            " flatten_1 (Flatten)         (None, 784)               0         \n",
            "                                                                 \n",
            " dense_1 (Dense)             (None, 10)                7850      \n",
            "                                                                 \n",
            "=================================================================\n",
            "Total params: 7,850\n",
            "Trainable params: 7,850\n",
            "Non-trainable params: 0\n",
            "_________________________________________________________________\n"
          ]
        }
      ]
    },
    {
      "cell_type": "code",
      "source": [
        "#y_onehot_train = tf.one_hot(y_train, 10)\n",
        "history_lr = model_lr.fit(x_train, y_train, epochs=10, batch_size=128, validation_data=(x_train, y_train), verbose=False )"
      ],
      "metadata": {
        "id": "WR3kpcWYA_Fn"
      },
      "execution_count": null,
      "outputs": []
    },
    {
      "cell_type": "code",
      "source": [
        "history_lr.history"
      ],
      "metadata": {
        "colab": {
          "base_uri": "https://localhost:8080/"
        },
        "id": "vWjLq-dXJ3Xu",
        "outputId": "08558a80-4598-4788-e868-dbe6577d4b33"
      },
      "execution_count": null,
      "outputs": [
        {
          "output_type": "execute_result",
          "data": {
            "text/plain": [
              "{'loss': [0.062406379729509354,\n",
              "  0.00292778667062521,\n",
              "  0.0013172186445444822,\n",
              "  0.0007635029032826424,\n",
              "  0.0004965219995938241,\n",
              "  0.0003445853653829545,\n",
              "  0.00024913245579227805,\n",
              "  0.00018525906489230692,\n",
              "  0.00014045431453268975,\n",
              "  0.00010796868446050212],\n",
              " 'accuracy': [0.09821666777133942,\n",
              "  0.09871666878461838,\n",
              "  0.09871666878461838,\n",
              "  0.09871666878461838,\n",
              "  0.09871666878461838,\n",
              "  0.09871666878461838,\n",
              "  0.09871666878461838,\n",
              "  0.09871666878461838,\n",
              "  0.09871666878461838,\n",
              "  0.09871666878461838],\n",
              " 'val_loss': [0.004848396871238947,\n",
              "  0.0017984489677473903,\n",
              "  0.0009643702651374042,\n",
              "  0.0006023258320055902,\n",
              "  0.00040789489867165685,\n",
              "  0.00028989146812818944,\n",
              "  0.00021300958178471774,\n",
              "  0.00016025538207031786,\n",
              "  0.0001224274019477889,\n",
              "  9.467236668569967e-05],\n",
              " 'val_accuracy': [0.09871666878461838,\n",
              "  0.09871666878461838,\n",
              "  0.09871666878461838,\n",
              "  0.09871666878461838,\n",
              "  0.09871666878461838,\n",
              "  0.09871666878461838,\n",
              "  0.09871666878461838,\n",
              "  0.09871666878461838,\n",
              "  0.09871666878461838,\n",
              "  0.09871666878461838]}"
            ]
          },
          "metadata": {},
          "execution_count": 19
        }
      ]
    },
    {
      "cell_type": "code",
      "source": [
        "plt.plot(history_lr.history['loss'], label='train')\n",
        "plt.plot(history_lr.history['val_loss'], label='val')\n",
        "plt.ylabel('loss')\n",
        "plt.legend()\n",
        "plt.show()\n",
        "\n",
        "plt.plot(history_lr.history['accuracy'], label='train')\n",
        "plt.plot(history_lr.history['val_accuracy'], label='val')\n",
        "plt.ylabel('accuracy')\n",
        "plt.legend()\n",
        "plt.show()"
      ],
      "metadata": {
        "colab": {
          "base_uri": "https://localhost:8080/",
          "height": 513
        },
        "id": "LGEONITdI7n7",
        "outputId": "4e7cae37-2fcf-4981-d216-e3dd9dfa4f29"
      },
      "execution_count": null,
      "outputs": [
        {
          "output_type": "display_data",
          "data": {
            "text/plain": [
              "<Figure size 432x288 with 1 Axes>"
            ],
            "image/png": "[encoded data removed]"
          },
          "metadata": {
            "needs_background": "light"
          }
        },
        {
          "output_type": "display_data",
          "data": {
            "text/plain": [
              "<Figure size 432x288 with 1 Axes>"
            ],
            "image/png": "[encoded data removed]"
          },
          "metadata": {
            "needs_background": "light"
          }
        }
      ]
    },
    {
      "cell_type": "code",
      "source": [
        "# convert the model \n",
        "converter = tf.lite.TFLiteConverter.from_keras_model(model_lr)\n",
        "tflite_model = converter.convert()"
      ],
      "metadata": {
        "colab": {
          "base_uri": "https://localhost:8080/"
        },
        "id": "9r0tCQs2Vv4Y",
        "outputId": "563e0a9f-79bc-49bb-c0a6-d2408cf1452d"
      },
      "execution_count": null,
      "outputs": [
        {
          "output_type": "stream",
          "name": "stderr",
          "text": [
            "WARNING:absl:Found untraced functions such as _update_step_xla while saving (showing 1 of 1). These functions will not be directly callable after loading.\n"
          ]
        }
      ]
    },
    {
      "cell_type": "code",
      "source": [
        "# Save the model.\n",
        "with open('model.tflite', 'wb') as f:\n",
        "  f.write(tflite_model)"
      ],
      "metadata": {
        "id": "-z3cGlLMW7wM"
      },
      "execution_count": null,
      "outputs": []
    },
    {
      "cell_type": "markdown",
      "source": [
        "# Conversion to a C header file\n",
        "Outputs a C header file (the -i option) containing the TFLite model as an unsigned char array with hexidecimal numbers.\n"
      ],
      "metadata": {
        "id": "exoXRHKmZ-vC"
      }
    },
    {
      "cell_type": "code",
      "source": [
        "!apt-get update && apt-get -qq install xxd\n"
      ],
      "metadata": {
        "colab": {
          "base_uri": "https://localhost:8080/"
        },
        "id": "zxVt-nCwZiUt",
        "outputId": "b705412c-6c57-4953-d478-049f925a0775"
      },
      "execution_count": null,
      "outputs": [
        {
          "output_type": "stream",
          "name": "stdout",
          "text": [
            "\r0% [Working]\r            \rHit:1 https://cloud.r-project.org/bin/linux/ubuntu focal-cran40/ InRelease\n",
            "\r0% [Connecting to archive.ubuntu.com] [Connecting to security.ubuntu.com] [Conn\r                                                                               \rHit:2 https://developer.download.nvidia.com/compute/cuda/repos/ubuntu2004/x86_64  InRelease\n",
            "\r0% [Connecting to archive.ubuntu.com] [Connecting to security.ubuntu.com] [Conn\r0% [Connecting to archive.ubuntu.com (91.189.91.39)] [Connecting to security.ub\r                                                                               \rHit:3 http://archive.ubuntu.com/ubuntu focal InRelease\n",
            "Hit:4 http://archive.ubuntu.com/ubuntu focal-updates InRelease\n",
            "Hit:5 http://archive.ubuntu.com/ubuntu focal-backports InRelease\n",
            "Hit:6 http://ppa.launchpad.net/c2d4u.team/c2d4u4.0+/ubuntu focal InRelease\n",
            "Hit:7 http://security.ubuntu.com/ubuntu focal-security InRelease\n",
            "Hit:8 http://ppa.launchpad.net/cran/libgit2/ubuntu focal InRelease\n",
            "Hit:9 http://ppa.launchpad.net/deadsnakes/ppa/ubuntu focal InRelease\n",
            "Hit:10 http://ppa.launchpad.net/graphics-drivers/ppa/ubuntu focal InRelease\n",
            "Hit:11 http://ppa.launchpad.net/ubuntugis/ppa/ubuntu focal InRelease\n",
            "Reading package lists... Done\n"
          ]
        }
      ]
    },
    {
      "cell_type": "code",
      "source": [
        "!xxd -i model.tflite > model.h"
      ],
      "metadata": {
        "id": "Fxah5QZ0Zu7_"
      },
      "execution_count": null,
      "outputs": []
    }
  ]
}